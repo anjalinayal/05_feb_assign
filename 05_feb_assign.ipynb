{
 "cells": [
  {
   "cell_type": "code",
   "execution_count": 1,
   "id": "3c13f17e-888c-453c-9c60-4a707f242e8d",
   "metadata": {},
   "outputs": [
    {
     "data": {
      "text/plain": [
       "'class is a classification and blue print of a real world identity but not specifically a real world entity\\nwhere as object is a real world entity. for example vehicle is a class which include different type of vehicles where as \\nbus, metro , car , bike, scooter , scooty are the objects to vehicle class.'"
      ]
     },
     "execution_count": 1,
     "metadata": {},
     "output_type": "execute_result"
    }
   ],
   "source": [
    "#Q1\n",
    "'''class is a classification and blue print of a real world identity but not specifically a real world entity\n",
    "where as object is a real world entity. for example vehicle is a class which include different type of vehicles where as \n",
    "bus, metro , car , bike, scooter , scooty are the objects to vehicle class.'''"
   ]
  },
  {
   "cell_type": "code",
   "execution_count": 2,
   "id": "fffb53cf-4087-4086-a175-d5360e86ddf5",
   "metadata": {},
   "outputs": [
    {
     "data": {
      "text/plain": [
       "'These principles are called the four pillars of object-oriented programming (OOP). \\nThese four pillars are Inheritance, Polymorphism, Encapsulation and Abstraction'"
      ]
     },
     "execution_count": 2,
     "metadata": {},
     "output_type": "execute_result"
    }
   ],
   "source": [
    "#Q2\n",
    "'''These principles are called the four pillars of object-oriented programming (OOP). \n",
    "These four pillars are Inheritance, Polymorphism, Encapsulation and Abstraction'''"
   ]
  },
  {
   "cell_type": "code",
   "execution_count": 5,
   "id": "649e63d8-f594-4bc9-a726-c544eb816100",
   "metadata": {},
   "outputs": [],
   "source": [
    "#Q3\n",
    "'''__init__ function is a initialization constructor function .The init() function is typically used to initialize a specific state \n",
    "of the application.'''\n",
    "class student:\n",
    "    def __init__(self, roll_num, phone_number , grade):\n",
    "        self.roll_num=roll_num\n",
    "        self.phone_num=phone_number\n",
    "        self.grade=grade\n",
    "    def return_details(self):\n",
    "        return self.roll_num,self.phone_num, self.grade\n"
   ]
  },
  {
   "cell_type": "code",
   "execution_count": 6,
   "id": "259f0216-f4b9-454f-9ea2-5454def9ba21",
   "metadata": {},
   "outputs": [],
   "source": [
    "rohan = student(1,23435,'a')"
   ]
  },
  {
   "cell_type": "code",
   "execution_count": 7,
   "id": "226f8e99-afdc-4ca0-b215-01831617907a",
   "metadata": {},
   "outputs": [
    {
     "data": {
      "text/plain": [
       "1"
      ]
     },
     "execution_count": 7,
     "metadata": {},
     "output_type": "execute_result"
    }
   ],
   "source": [
    "rohan.roll_num"
   ]
  },
  {
   "cell_type": "code",
   "execution_count": 8,
   "id": "870f60e4-5a3b-4f37-9ddf-062beb2d754f",
   "metadata": {},
   "outputs": [
    {
     "data": {
      "text/plain": [
       "(1, 23435, 'a')"
      ]
     },
     "execution_count": 8,
     "metadata": {},
     "output_type": "execute_result"
    }
   ],
   "source": [
    "rohan.return_details()"
   ]
  },
  {
   "cell_type": "code",
   "execution_count": 9,
   "id": "df99a841-6b5f-4c9e-a15a-fd29142544f5",
   "metadata": {},
   "outputs": [],
   "source": [
    "sohan = student(2,34354,'b')"
   ]
  },
  {
   "cell_type": "code",
   "execution_count": 10,
   "id": "3a2994ae-8edb-4007-b13c-ac6bbc9612bd",
   "metadata": {},
   "outputs": [
    {
     "data": {
      "text/plain": [
       "2"
      ]
     },
     "execution_count": 10,
     "metadata": {},
     "output_type": "execute_result"
    }
   ],
   "source": [
    "sohan.roll_num"
   ]
  },
  {
   "cell_type": "code",
   "execution_count": 11,
   "id": "355d69d6-faa8-4e2f-9897-fbac53d5ee5c",
   "metadata": {},
   "outputs": [
    {
     "data": {
      "text/plain": [
       "(2, 34354, 'b')"
      ]
     },
     "execution_count": 11,
     "metadata": {},
     "output_type": "execute_result"
    }
   ],
   "source": [
    "sohan.return_details()"
   ]
  },
  {
   "cell_type": "code",
   "execution_count": 1,
   "id": "ae72bb8f-2787-4969-9614-7d6e0d2ec6fc",
   "metadata": {},
   "outputs": [
    {
     "data": {
      "text/plain": [
       "'The self is used to represent the instance of the class. With this keyword, \\nyou can access the attributes and methods of the class in python. '"
      ]
     },
     "execution_count": 1,
     "metadata": {},
     "output_type": "execute_result"
    }
   ],
   "source": [
    "#Q4\n",
    "'''The self is used to represent the instance of the class. With this keyword, \n",
    "you can access the attributes and methods of the class in python. '''"
   ]
  },
  {
   "cell_type": "code",
   "execution_count": 3,
   "id": "8537715a-1304-48a3-a99b-8ffef2666c72",
   "metadata": {},
   "outputs": [
    {
     "data": {
      "text/plain": [
       "'Inheritance in OOP = When a class derives from another class.\\nThe child class will inherit all the public and protected properties and methods from the parent class. \\nIn addition, it can have its own properties and methods.for example the Strawberry class is inherited from the Fruit class.'"
      ]
     },
     "execution_count": 3,
     "metadata": {},
     "output_type": "execute_result"
    }
   ],
   "source": [
    "#Q5\n",
    "'''Inheritance in OOP = When a class derives from another class.\n",
    "The child class will inherit all the public and protected properties and methods from the parent class. \n",
    "In addition, it can have its own properties and methods.for example the Strawberry class is inherited from the Fruit class.'''"
   ]
  },
  {
   "cell_type": "code",
   "execution_count": null,
   "id": "222177be-9559-439c-98f5-ff2e107c22ac",
   "metadata": {},
   "outputs": [],
   "source": []
  }
 ],
 "metadata": {
  "kernelspec": {
   "display_name": "Python 3 (ipykernel)",
   "language": "python",
   "name": "python3"
  },
  "language_info": {
   "codemirror_mode": {
    "name": "ipython",
    "version": 3
   },
   "file_extension": ".py",
   "mimetype": "text/x-python",
   "name": "python",
   "nbconvert_exporter": "python",
   "pygments_lexer": "ipython3",
   "version": "3.10.6"
  }
 },
 "nbformat": 4,
 "nbformat_minor": 5
}
